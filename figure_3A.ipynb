{
 "cells": [
  {
   "cell_type": "code",
   "execution_count": 1,
   "id": "27829054-b24c-40ab-9ec7-f138e99d1d8b",
   "metadata": {},
   "outputs": [],
   "source": [
    "%load_ext autoreload\n",
    "%autoreload 2\n",
    "\n",
    "from utils.prediction_models import *"
   ]
  },
  {
   "cell_type": "code",
   "execution_count": 2,
   "id": "c7baab28-27ae-4a4c-b766-bc58c1457ae6",
   "metadata": {},
   "outputs": [],
   "source": [
    "DIR_data=\"/home/zeqianli/project/zeqian/Carbon/data\"\n",
    "zeqian=pd.read_pickle(f\"{DIR_data}/zeqian/zeqian.pk\")\n",
    "matti=pd.read_pickle(f\"{DIR_data}/matti/matti.pk\")\n",
    "bacdive=pd.read_pickle(f\"{DIR_data}/bacdive/bacdive.pk\")\n",
    "datasets={\"zeqian\":zeqian,\"matti\":matti,\"bacdive\":bacdive,}\n",
    "\n",
    "# bacdive_sim=pd.read_pickle(\"/home/zeqianli/project/zeqianli/Kuehn/Carbon/data/20221031_bacdive_simulated_data.pk\")"
   ]
  },
  {
   "cell_type": "markdown",
   "id": "27b305d5-34b1-4f5c-a3a3-7d4b378c08dd",
   "metadata": {
    "tags": []
   },
   "source": [
    "## 3A: models \n",
    "\n",
    "Left: Null, FBA, NN-genomes, NN-RF, NN-OOC, feature selection\n",
    "\n",
    "Right: FI"
   ]
  },
  {
   "cell_type": "code",
   "execution_count": 3,
   "id": "49e982b6-a493-47c7-9800-52af8a0deeef",
   "metadata": {
    "tags": []
   },
   "outputs": [],
   "source": [
    "threads=48\n",
    "\n",
    "p=Pool(threads)"
   ]
  },
  {
   "cell_type": "code",
   "execution_count": 4,
   "id": "588fb003-dc9b-415a-85d9-ba0711822f4a",
   "metadata": {},
   "outputs": [],
   "source": [
    "DIR_figure=f\"{DIR_data}/figure_data/3A\"\n",
    "\n",
    "\n",
    "models={'null': [BernoulliNull,\n",
    "                {'model_params':{},\n",
    "                 'split_method':'random',\n",
    "                 'splitter_params': {'test_set_ratio':0.2}, \n",
    "                 'n_splits':100,\n",
    "                 'threads': threads,\n",
    "                 'save_models':False\n",
    "                 }],\n",
    "        'null_ooc': [BernoulliNull,\n",
    "                {'model_params':{},\n",
    "                 'split_method':'ooc',\n",
    "                 'splitter_params': {'test_set_range':(0.1,0.3), 'min_zeros':0, 'min_ones':0, 'time_out_iter':None},\n",
    "                 'n_splits':100,\n",
    "                 'threads': threads,\n",
    "                 'save_models':False\n",
    "                 }],\n",
    "                \n",
    "        'NN':[NearestNeighbor,\n",
    "                {'model_params':{'n_neighbors':1,'metric':'hamming'},\n",
    "                'split_method':'random',\n",
    "                 'splitter_params': {'test_set_ratio':0.2}, \n",
    "                 'n_splits':100,\n",
    "                 'threads': threads,\n",
    "                 'save_models':False\n",
    "                 }\n",
    "              ],\n",
    "        'NN_ooc':[NearestNeighbor,\n",
    "                {'model_params':{'n_neighbors':1,'metric':'hamming'},\n",
    "                'split_method':'ooc',\n",
    "                'splitter_params': {'test_set_range':(0.1,0.3), 'min_zeros':0, 'min_ones':0, 'time_out_iter':None},\n",
    "                'n_splits':100,\n",
    "                'threads': threads,\n",
    "                'save_models':False\n",
    "                }\n",
    "                ],\n",
    "        'RF':[RF,\n",
    "                {'model_params':{'n_estimators':100,'max_depth':None, 'max_features': 'sqrt'},\n",
    "                 'split_method':'random',\n",
    "                 'splitter_params': {'test_set_ratio':0.2}, \n",
    "                 'n_splits':100,\n",
    "                 'threads': threads,\n",
    "                 'save_models':False\n",
    "                },\n",
    "        ],\n",
    "        'RF_ooc':[RF,\n",
    "                {'model_params':{'n_estimators':100,'max_depth':None, 'max_features': 'sqrt'},\n",
    "                'split_method':'ooc',   \n",
    "                'splitter_params': {'test_set_range':(0.1,0.3), 'min_zeros':0, 'min_ones':0, 'time_out_iter':None},\n",
    "                'n_splits':100,\n",
    "                'threads': threads,\n",
    "                'save_models':False\n",
    "                }],\n",
    "        'GreedyFeatureSelection':[GreedyFeatureSelection,\n",
    "                {'model_params':{\n",
    "                    \"Model\":DecisionTree, \n",
    "                    'tree':zeqian['tree'],\n",
    "                    \"model_params\":{},\n",
    "                    \"n_max_features\":3, \n",
    "                    \"n_feature_subsample\":None,\n",
    "                    \"n_meta_split\":10, \n",
    "                    \"split_method\":'ooc',\n",
    "                    \"splitter_params\":{'test_set_range':(0.1,0.3),'min_zeros':0,'min_ones':0,'time_out_iter':None},\n",
    "                    \"threads\":threads,                    \n",
    "                    \"save_meta_models\":False,\n",
    "                    'verbose':False,\n",
    "                    'p':p,},\n",
    "                'split_method':'ooc',\n",
    "                'splitter_params': {'test_set_range':(0.1,0.3), 'min_zeros':0, 'min_ones':0, 'time_out_iter':None},\n",
    "                'n_splits':10,\n",
    "                'threads':1,\n",
    "                'save_models':False,\n",
    "                }]\n",
    "}\n",
    "\n",
    "matrices={\n",
    "          'zeqian_genome': zeqian\n",
    "        }\n"
   ]
  },
  {
   "cell_type": "code",
   "execution_count": 5,
   "id": "9edfba90-3bab-4d41-8299-63e9c2ef1395",
   "metadata": {},
   "outputs": [
    {
     "name": "stdout",
     "output_type": "stream",
     "text": [
      "Running zeqian_genome null\n",
      "Already exists. Skipping. \n",
      "Running zeqian_genome null_ooc\n",
      "Already exists. Skipping. \n",
      "Running zeqian_genome NN\n",
      "Already exists. Skipping. \n",
      "Running zeqian_genome NN_ooc\n",
      "Already exists. Skipping. \n",
      "Running zeqian_genome RF\n",
      "Already exists. Skipping. \n",
      "Running zeqian_genome RF_ooc\n",
      "Already exists. Skipping. \n",
      "Running zeqian_genome GreedyFeatureSelection\n",
      "Warning: output file /home/zeqianli/project/zeqian/Carbon/data/figure_data/3A/cache/zeqian_genome_GreedyFeatureSelection.pk exists. \n",
      "Changed to /home/zeqianli/project/zeqian/Carbon/data/figure_data/3A/cache/zeqian_genome_GreedyFeatureSelection_2.pk. \n"
     ]
    },
    {
     "name": "stderr",
     "output_type": "stream",
     "text": [
      "Generating splits...: 100%|█████████████████████████████████████████████████████████████████████████████████████████████████████████████████████████████████| 10/10 [00:00<00:00, 554.41it/s]\n",
      "Training models...: 100%|███████████████████████████████████████████████████████████████████████████████████████████████████████████████████████████████| 100/100 [8:11:39<00:00, 294.99s/it]\n"
     ]
    },
    {
     "name": "stdout",
     "output_type": "stream",
     "text": [
      "Finished zeqian_genome GreedyFeatureSelection \n"
     ]
    }
   ],
   "source": [
    "for model_name, (Model, pipe_params) in models.items():\n",
    "    for dataset_name,dataset in matrices.items():\n",
    "        try:\n",
    "            print(f\"Running {dataset_name} {model_name}\")\n",
    "            ff_cache=os.path.join(DIR_figure,'cache',f'{dataset_name}_{model_name}.pk')\n",
    "            ff_results=os.path.join(DIR_figure,'results',f'{dataset_name}_{model_name}.pk')\n",
    "            if os.path.exists(ff_results):\n",
    "                print(\"Already exists. Skipping. \")\n",
    "                continue\n",
    "            ko_data,growth_data, tree,carbons=dataset['ko_data'],dataset['growth_data'],dataset['tree'],dataset['carbons']\n",
    "            pipe=PredictionPipeline(Model, tree=tree, carbons=carbons, p=p,  ff_results=ff_cache, **pipe_params)\n",
    "            pipe.generate_splits(ko_data,growth_data)\n",
    "            results=pipe.run()\n",
    "            with open(ff_results, 'wb') as f:\n",
    "                pickle.dump(results, f)\n",
    "            print(f\"Finished {dataset_name} {model_name} \")\n",
    "        except Exception as e: \n",
    "            print(e)\n",
    "            print(f\"Failed to run {dataset_name} {model_name}\")\n"
   ]
  },
  {
   "cell_type": "code",
   "execution_count": null,
   "id": "adecb0ec-ab6f-4442-9a58-2b6f9d1db3a5",
   "metadata": {},
   "outputs": [],
   "source": []
  }
 ],
 "metadata": {
  "kernelspec": {
   "display_name": "Python 3 (ipykernel)",
   "language": "python",
   "name": "python3"
  },
  "language_info": {
   "codemirror_mode": {
    "name": "ipython",
    "version": 3
   },
   "file_extension": ".py",
   "mimetype": "text/x-python",
   "name": "python",
   "nbconvert_exporter": "python",
   "pygments_lexer": "ipython3",
   "version": "3.11.0"
  },
  "vscode": {
   "interpreter": {
    "hash": "6bad3d01558fceae3e030a57fd11423821f807a77f9a4d4e108cfee110ebc136"
   }
  }
 },
 "nbformat": 4,
 "nbformat_minor": 5
}
